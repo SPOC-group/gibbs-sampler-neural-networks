{
  "nbformat": 4,
  "nbformat_minor": 0,
  "metadata": {
    "colab": {
      "provenance": [],
      "gpuType": "T4"
    },
    "kernelspec": {
      "name": "python3",
      "display_name": "Python 3"
    },
    "language_info": {
      "name": "python"
    },
    "accelerator": "GPU"
  },
  "cells": [
    {
      "cell_type": "code",
      "execution_count": null,
      "metadata": {
        "id": "BhY4KEGub6-U"
      },
      "outputs": [],
      "source": [
        "import gibbs_mcmc_nn as mc #imports the file with all the functions of the Gibbs sampler\n",
        "import torch\n",
        "import matplotlib.pyplot as plt"
      ]
    },
    {
      "cell_type": "code",
      "source": [
        "device = torch.device(\"cuda\" if torch.cuda.is_available() else \"cpu\")\n",
        "print(device)"
      ],
      "metadata": {
        "colab": {
          "base_uri": "https://localhost:8080/"
        },
        "id": "xlbsc6-eFR9K",
        "outputId": "601cf4f3-51ec-4d65-b872-b97b9b3eff48"
      },
      "execution_count": null,
      "outputs": [
        {
          "output_type": "stream",
          "name": "stdout",
          "text": [
            "cuda\n"
          ]
        }
      ]
    },
    {
      "cell_type": "markdown",
      "source": [
        "# Introduction\n",
        "In this notebook we will see how to sample form the posterior of a simple, one hidden layer neural network, using the Gibbs sampler.\n",
        "\n",
        "The algorithm is described in detail in the paper **Gibbs Sampling the Posterior of Neural Networks**.\n"
      ],
      "metadata": {
        "id": "japQqCpGcUZk"
      }
    },
    {
      "cell_type": "markdown",
      "source": [
        "## Architecture\n",
        "\n",
        "Let's start by defining the neural network's architecture and the posterior that we wish to sample. We will focus on a neural net with input dimension $d^{(1)}=50$, $d^{(2)}=10$ hidden units and a scalar output. We use ReLU activations. The neural network function is $f(\\cdot,W):\\mathbb R^d\\mapsto \\mathbb R$,\n",
        "\\begin{equation}\n",
        "f(x,W)=b^{(2)}+\\sum_{\\alpha=1}^{d_2}W^{(2)}_\\alpha \\sigma\\left(W^{(1)T}_\\alpha x+b^{(1)}_\\alpha\\right)\n",
        "\\end{equation}\n",
        "with the weight matrices $W^{(1)}\\in\\mathbb R^{d_2 \\times d_1}$, $W^{(2)}\\in\\mathbb R^{1 \\times d_2}$, $b^{(1)}\\in\\mathbb R^{d_2}$, $b^{(2)}\\in\\mathbb R$. The input vector $x$ lives in $\\mathbb R^{d_1}$ and $\\sigma(x)=\\max(0,x)$.\n",
        "\n"
      ],
      "metadata": {
        "id": "jryOh3UGc_wB"
      }
    },
    {
      "cell_type": "code",
      "source": [
        "def MLP_1_hidden_layer(sigma,W_1,b_1,W_2,b_2,X):\n",
        "    return (sigma(X@W_1.T+b_1))@(W_2.T)+b_2[None,:]"
      ],
      "metadata": {
        "id": "-bXB93JwtP-g"
      },
      "execution_count": null,
      "outputs": []
    },
    {
      "cell_type": "markdown",
      "source": [
        "## Posterior\n",
        "Let $X\\in\\mathbb R^{n\\times d_1}$ be our training inputs and $y\\in\\mathbb R^n$ the training labels. $n$ is the size of the training set.\n",
        "\n",
        "We want to sample from the posterior\n",
        "\\begin{equation}\n",
        "P(W|X,y)=\\frac{P(y|X,W)P(W)}{P(y|X)},\n",
        "\\end{equation}\n",
        "where $W$ indicates all the parameters of the network.\n",
        "Given an architecture $f$ there are several ways to translate it into a posterior. The Gibbs sampler allows to sample one of these forms, named the intermediate noise posterior.\n",
        "Define $Z^{(2)}\\in\\mathbb R^{n\\times d_2}, X^{(2)}\\in\\mathbb R^{n\\times d_2}$ to respectively the pre- and post- activations of the first layer.\n",
        "We will draw samples from the probability.\n",
        "\\begin{align}\n",
        "&P(W,Z^{(2)},X^{(2)}|X,y)=\\\\&=\\frac{1}{\\mathcal Z}\\exp\\left\\{-\\frac{1}{2\\Delta}\\sum_{\\mu=1}^n(y^\\mu-b^{(2)}-W^{(2)T}X^{(2)\\mu})^2-\\frac{1}{2\\Delta}\\left[\\sum_{\\mu=1}^{n}\\sum_{\\alpha=1}^{d_2}\\left(X^{(2)\\mu}_\\alpha-\\sigma(Z^{(2)\\mu}_\\alpha)\\right)^2+\\left(Z^{(2)\\mu}_\\alpha-b^{(1)}_\\alpha-W_\\alpha^{(1)T}X^\\mu\\right)^2\\right]\\right\\}\\times\\\\&\\times\\exp\\left[-\\frac{\\lambda_W^{(1)}}{2}\\sum_{\\alpha=1}^{d_2}\\sum_{i=1}^{d_1}(W^{(1)}_{\\alpha i})^2-\\frac{\\lambda_b^{(1)}}{2}\\sum_{\\alpha=1}^{d_2}(b^{(1)}_{\\alpha})^2-\\frac{\\lambda_W^{(2)}}{2}\\sum_{\\alpha=1}^{d_2}(W^{(2)}_{\\alpha})^2-\\frac{\\lambda_b^{(2)}}{2} (b^{(2)})^2\\right]\n",
        "\\end{align}\n",
        "\n",
        "$\\Delta$ is a *temperature* parameter for the Gibbs sampler.\n",
        "We place a i.i.d. gaussian prior on each weight vector. $\\lambda_W^{(1)},\\lambda_b^{(1)},\\lambda_W^{(2)},\\lambda_b^{(2)}$ are the inverse variances of the prior of respectively the first layer weights and biases and second layer weights and bias.\n",
        "\n",
        "\n",
        "The Gibbs sampler draws samples from this posterior by iteratively sampling each of $W^{(1)},b^{(1)},Z^{(2)},X^{(2)},W^{(2)},b^{(2)}$ from its conditional distribution on all other variables.\n",
        "\n",
        "\n",
        "\n"
      ],
      "metadata": {
        "id": "ZQvBhATMfVyD"
      }
    },
    {
      "cell_type": "markdown",
      "source": [
        "## Dataset generation\n",
        "\n",
        "In the following cell we generate a synthetic training set with $n=2084, d^{(1)}=50$. `X_train`,`y_train` will denote respectively the training inputs and labels.`X_test`,`y_test` are instead the test inputs and labels. The training labels are generated introducing a Gaussian noise with variance `Delta_teach` in $Z^{(2)},X^{(2)}, y$. Instead the test labels are generated in a noiseless way.\n",
        "\n",
        "The inputs are taken to be i.i.d. standard normals, while the labels are generated by a teacher network. The teacher network in turn is sampled form the prior, we pick $\\lambda_W^{(1)}=\\lambda_W^{(1)}=d_1$, $\\lambda_W^{(2)}=\\lambda_b^{(2)}=d_2$."
      ],
      "metadata": {
        "id": "hiRjeGUcyOWj"
      }
    },
    {
      "cell_type": "code",
      "source": [
        "n=2084\n",
        "d_1=torch.tensor(50)\n",
        "d_2=torch.tensor(10)\n",
        "sigma=torch.nn.ReLU()\n",
        "lambda_W_1_teach=d_1\n",
        "lambda_b_1_teach=d_1\n",
        "lambda_W_2_teach=d_2\n",
        "lambda_b_2_teach=d_2\n",
        "Delta_teach=torch.tensor(1e-3)\n",
        "n_test=2000\n",
        "\n",
        "\n",
        "X_train=torch.randn(size=[n,d_1])\n",
        "W_1_teach=torch.randn(size=[d_2,d_1])/torch.sqrt(lambda_W_1_teach)\n",
        "b_1_teach=torch.randn(size=[d_2])/torch.sqrt(lambda_b_1_teach)\n",
        "W_2_teach=torch.randn(size=[1,d_2])/torch.sqrt(lambda_W_2_teach)\n",
        "b_2_teach=torch.randn(size=[1])/torch.sqrt(lambda_b_2_teach)\n",
        "\n",
        "Z_2_teach=X_train@(W_1_teach.T)+b_1_teach[None,:]+torch.sqrt(Delta_teach)*torch.randn(size=[n,d_2])\n",
        "X_2_teach=sigma(Z_2_teach)+torch.sqrt(Delta_teach)*torch.randn(size=[n,d_2])\n",
        "y_train=b_2_teach[None,:]+X_2_teach@(W_2_teach.T)+torch.sqrt(Delta_teach)*torch.randn(size=[n,1])\n",
        "y_train_noiseless=MLP_1_hidden_layer(sigma,W_1_teach,b_1_teach,W_2_teach,b_2_teach,X_train)\n",
        "\n",
        "#generate test set\n",
        "X_test=torch.randn(size=[n_test,d_1])\n",
        "y_test=MLP_1_hidden_layer(sigma,W_1_teach,b_1_teach,W_2_teach,b_2_teach,X_test)"
      ],
      "metadata": {
        "id": "q7EOKh76cK8q"
      },
      "execution_count": null,
      "outputs": []
    },
    {
      "cell_type": "markdown",
      "source": [
        "## Gibbs parameters\n",
        "\n",
        "We will now run the Gibbs sampler on the dataset. \n",
        "First we must set the algorithm's parameters, i.e., $\\Delta,\\lambda_W^{(1)},\\lambda_W^{(1)},\\lambda_W^{(2)}, \\lambda_b^{(2)}$. Since we want to carry out Bayes optimal inference we set them to the same value as the teacher."
      ],
      "metadata": {
        "id": "y_x4MbJP8wzF"
      }
    },
    {
      "cell_type": "code",
      "source": [
        "sigma_=torch.nn.ReLU()\n",
        "lambda_W_1=d_1\n",
        "lambda_b_1=d_1\n",
        "lambda_W_2=d_2\n",
        "lambda_b_2=d_2\n",
        "Delta=torch.tensor(1e-3)"
      ],
      "metadata": {
        "id": "CC2bzlhc8z78"
      },
      "execution_count": null,
      "outputs": []
    },
    {
      "cell_type": "markdown",
      "source": [
        "## Initialization\n",
        "for the Gibbs sampler we set all variables initially to zero. This correponds to an uninformed initialization, in the sense that the network is initialized independently of the teacher network that generated the dataset.\n",
        "As an alternative one can initialize all variables on the teacher network's counterparts. We refer to this as an \"informed\" initialization.\n"
      ],
      "metadata": {
        "id": "UjxmJetw_mg5"
      }
    },
    {
      "cell_type": "code",
      "source": [
        "#zero initialization\n",
        "W_1=torch.zeros(size=[d_2,d_1])\n",
        "b_1=torch.zeros(size=[d_2])\n",
        "Z_2=torch.zeros(size=[n,d_2])\n",
        "X_2=torch.zeros(size=[n,d_2])\n",
        "W_2=torch.zeros(size=[1,d_2])\n",
        "b_2=torch.zeros(size=[1])\n",
        "\n",
        "\n",
        "\"\"\"\n",
        "#informed initialization\n",
        "W_1=W_1_teach.clone()\n",
        "b_1=b_1_teach.clone()\n",
        "Z_2=Z_2_teach.clone()\n",
        "X_2=X_2_teach.clone()\n",
        "W_2=W_2_teach.clone()\n",
        "b_2=b_2_teach.clone()\n",
        "\"\"\""
      ],
      "metadata": {
        "id": "rueTjOGIFeSM",
        "colab": {
          "base_uri": "https://localhost:8080/",
          "height": 35
        },
        "outputId": "324fa87e-3d37-460c-f11a-7d65cc6d241f"
      },
      "execution_count": null,
      "outputs": [
        {
          "output_type": "execute_result",
          "data": {
            "text/plain": [
              "'\\n#informed initialization\\nW_1=W_1_teach.clone()\\nb_1=b_1_teach.clone()\\nZ_2=Z_2_teach.clone()\\nX_2=X_2_teach.clone()\\nW_2=W_2_teach.clone()\\nb_2=b_2_teach.clone()\\n'"
            ],
            "application/vnd.google.colaboratory.intrinsic+json": {
              "type": "string"
            }
          },
          "metadata": {},
          "execution_count": 6
        }
      ]
    },
    {
      "cell_type": "code",
      "source": [
        "#moving the variables to the GPU (if needed)\n",
        "Delta=Delta.to(device)\n",
        "lambda_W_1=lambda_W_1.to(device)\n",
        "lambda_b_1=lambda_b_1.to(device)\n",
        "lambda_W_2=lambda_W_2.to(device)\n",
        "lambda_b_2=lambda_b_2.to(device)\n",
        "W_1=W_1.to(device)\n",
        "b_1=b_1.to(device)\n",
        "Z_2=Z_2.to(device)\n",
        "X_2=X_2.to(device)\n",
        "W_2=W_2.to(device)\n",
        "b_2=b_2.to(device)\n",
        "X_train=X_train.to(device)\n",
        "y_train=y_train.to(device)\n",
        "y_train_noiseless=y_train_noiseless.to(device)\n",
        "X_test=X_test.to(device)\n",
        "y_test=y_test.to(device)\n",
        "if(str(device)=='cuda'): \n",
        "    torch.set_default_tensor_type(torch.cuda.FloatTensor) #this is necessary so that tensors generated during the algorithm are allocated on the GPU"
      ],
      "metadata": {
        "id": "I6R5KsEVHkUc"
      },
      "execution_count": null,
      "outputs": []
    },
    {
      "cell_type": "code",
      "source": [
        "#stuff to track during the dynamics\n",
        "test_loss=[]\n",
        "train_loss=[]\n",
        "W_1_norm=[]\n",
        "W_2_norm=[]\n",
        "tmax=5000"
      ],
      "metadata": {
        "id": "2cuO3qjdF1UH"
      },
      "execution_count": null,
      "outputs": []
    },
    {
      "cell_type": "code",
      "source": [
        "#should take about 1 minute to run\n",
        "for t in range(tmax):\n",
        "    y_pred_test=MLP_1_hidden_layer(sigma,W_1,b_1,W_2,b_2,X_test)\n",
        "    y_pred_train=MLP_1_hidden_layer(sigma,W_1,b_1,W_2,b_2,X_train)\n",
        "    test_loss.append(torch.mean((y_pred_test-y_test)**2).item())\n",
        "    train_loss.append(torch.mean((y_pred_train-y_train_noiseless)**2).item())\n",
        "\n",
        "    #updating the variables (in this case in reverse order)\n",
        "    W_2=mc.sample_W_l_fcl(X_2,b_2,y_train,lambda_W_2,Delta)\n",
        "    b_2=mc.sample_b_l_fcl(W_2,y_train,X_2,Delta,lambda_b_2)\n",
        "    X_2=mc.sample_X_l_fcl(sigma(Z_2),W_2,b_2,y_train,Delta,Delta) \n",
        "    Z_2=mc.sample_Z_lp1_relu(X_train@(W_1.T)+b_1[None,:],X_2,Delta,Delta)\n",
        "    W_1=mc.sample_W_l_fcl(X_train,b_1,Z_2,lambda_W_1,Delta)\n",
        "    b_1=mc.sample_b_l_fcl(W_1,Z_2,X_train,Delta,lambda_b_1)"
      ],
      "metadata": {
        "id": "hQs0OcBv_Xst"
      },
      "execution_count": null,
      "outputs": []
    },
    {
      "cell_type": "code",
      "source": [
        "plt.plot(test_loss,label=\"test MSE\")\n",
        "plt.plot(train_loss,label=\"train MSE\")\n",
        "plt.xlabel(\"t (steps)\")\n",
        "plt.ylabel(\"MSE\")\n",
        "plt.xscale('log')\n",
        "plt.yscale('log')\n",
        "plt.grid()\n",
        "plt.ylim([1e-5,1])"
      ],
      "metadata": {
        "colab": {
          "base_uri": "https://localhost:8080/",
          "height": 479
        },
        "id": "Xk2if7miK8m0",
        "outputId": "122c91f7-71cb-48d5-f3a7-ea2adfa6faf8"
      },
      "execution_count": null,
      "outputs": [
        {
          "output_type": "execute_result",
          "data": {
            "text/plain": [
              "(1e-05, 1)"
            ]
          },
          "metadata": {},
          "execution_count": 10
        },
        {
          "output_type": "display_data",
          "data": {
            "text/plain": [
              "<Figure size 640x480 with 1 Axes>"
            ],
            "image/png": "[encoded data removed]"
          },
          "metadata": {}
        }
      ]
    },
    {
      "cell_type": "markdown",
      "source": [
        "## Faster implementation\n",
        "\n",
        "The sampling of the first layer's weights can be sped up by precomputing the covarinace (and its cholesky decomposition) of the first layer's weights and biases. Also exploiting a simplification when sampling $X^{(2)}$ for the case when the output has only one neuron.\n",
        "The larger the input dimension $d_1$ the more significant the speedup."
      ],
      "metadata": {
        "id": "jC8wHiBcM7uO"
      }
    },
    {
      "cell_type": "code",
      "source": [
        "#initializing all variables to zero\n",
        "W_1=torch.zeros(size=[d_2,d_1])\n",
        "b_1=torch.zeros(size=[d_2])\n",
        "Z_2=torch.zeros(size=[n,d_2])\n",
        "X_2=torch.zeros(size=[n,d_2])\n",
        "W_2=torch.zeros(size=[1,d_2])\n",
        "b_2=torch.zeros(size=[1])\n",
        "\"\"\"\n",
        "#informed initialization\n",
        "W_1=W_1_teach.clone()\n",
        "b_1=b_1_teach.clone()\n",
        "Z_2=Z_2_teach.clone()\n",
        "X_2=X_2_teach.clone()\n",
        "W_2=W_2_teach.clone()\n",
        "b_2=b_2_teach.clone()\n",
        "\"\"\"\n",
        "#moving the variables to the GPU (if needed)\n",
        "Delta=Delta.to(device)\n",
        "lambda_W_1=lambda_W_1.to(device)\n",
        "lambda_b_1=lambda_b_1.to(device)\n",
        "lambda_W_2=lambda_W_2.to(device)\n",
        "lambda_b_2=lambda_b_2.to(device)\n",
        "W_1=W_1.to(device)\n",
        "b_1=b_1.to(device)\n",
        "Z_2=Z_2.to(device)\n",
        "X_2=X_2.to(device)\n",
        "W_2=W_2.to(device)\n",
        "b_2=b_2.to(device)\n",
        "X_train=X_train.to(device)\n",
        "y_train=y_train.to(device)\n",
        "y_train_noiseless=y_train_noiseless.to(device)\n",
        "X_test=X_test.to(device)\n",
        "y_test=y_test.to(device)\n",
        "if(str(device)=='cuda'): \n",
        "    torch.set_default_tensor_type(torch.cuda.FloatTensor) #this is necessary so that tensors generated during the algorithm are allocated on the GPU\n",
        "\n",
        "#precomputing quantities to sample the first layer's weights and biases faster\n",
        "sum_X=torch.sum(X_train,axis=0)[None,:]\n",
        "up_block=torch.cat((torch.tensor([[lambda_b_1*Delta+n]]),sum_X),axis=1)\n",
        "down_block=torch.cat((sum_X.T,(X_train.T)@X_train+Delta*lambda_W_1*torch.eye(d_1)),axis=1)\n",
        "Cov_W_b_resc=torch.linalg.inv(torch.cat((up_block,down_block),axis=0))\n",
        "Cholesky_Cov_W_b_resc=torch.linalg.cholesky(Cov_W_b_resc) \n",
        "Cov_W_b_resc_XT = Cov_W_b_resc @ torch.cat((torch.ones([n,1]),X_train),axis=1).T "
      ],
      "metadata": {
        "id": "AQHvIZ1uNQ-n"
      },
      "execution_count": null,
      "outputs": []
    },
    {
      "cell_type": "code",
      "source": [
        "test_loss=[]\n",
        "train_loss=[]\n",
        "tmax=5000"
      ],
      "metadata": {
        "id": "wksoQ5UkQsLe"
      },
      "execution_count": null,
      "outputs": []
    },
    {
      "cell_type": "code",
      "source": [
        "#should take about 1 minute to run\n",
        "for t in range(tmax):\n",
        "    y_pred_test=MLP_1_hidden_layer(sigma,W_1,b_1,W_2,b_2,X_test)\n",
        "    y_pred_train=MLP_1_hidden_layer(sigma,W_1,b_1,W_2,b_2,X_train)\n",
        "    test_loss.append(torch.mean((y_pred_test-y_test)**2).item())\n",
        "    train_loss.append(torch.mean((y_pred_train-y_train_noiseless)**2).item())\n",
        "\n",
        "    #updating the variables (in this case in reverse order)\n",
        "    W_2=mc.sample_W_l_fcl(X_2,b_2,y_train,lambda_W_2,Delta)\n",
        "    b_2=mc.sample_b_l_fcl(W_2,y_train,X_2,Delta,lambda_b_2)\n",
        "    X_2=mc.sample_X_L_fcl(sigma(Z_2),W_2,b_2,y_train,Delta,Delta)\n",
        "    Z_2=mc.sample_Z_lp1_relu(X_train@(W_1.T)+b_1[None,:],X_2,Delta,Delta)\n",
        "    W_1,b_1=mc.sample_W_b_1_fcl(Cholesky_Cov_W_b_resc,Cov_W_b_resc_XT,Z_2,Delta)"
      ],
      "metadata": {
        "id": "PKWDlgLpQyuG"
      },
      "execution_count": null,
      "outputs": []
    },
    {
      "cell_type": "code",
      "source": [
        "plt.plot(test_loss,label=\"test MSE\")\n",
        "plt.plot(train_loss,label=\"train MSE\")\n",
        "plt.xlabel(\"t (steps)\")\n",
        "plt.ylabel(\"MSE\")\n",
        "plt.xscale('log')\n",
        "plt.yscale('log')\n",
        "plt.grid()\n",
        "plt.ylim([1e-5,1])"
      ],
      "metadata": {
        "colab": {
          "base_uri": "https://localhost:8080/",
          "height": 479
        },
        "id": "nCD8qu8XSWf2",
        "outputId": "0347211b-2dd2-4ff7-fd0c-9321a9435bc7"
      },
      "execution_count": null,
      "outputs": [
        {
          "output_type": "execute_result",
          "data": {
            "text/plain": [
              "(1e-05, 1)"
            ]
          },
          "metadata": {},
          "execution_count": 14
        },
        {
          "output_type": "display_data",
          "data": {
            "text/plain": [
              "<Figure size 640x480 with 1 Axes>"
            ],
            "image/png": "[encoded data removed]"
          },
          "metadata": {}
        }
      ]
    }
  ]
}