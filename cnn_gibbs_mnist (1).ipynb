{
  "nbformat": 4,
  "nbformat_minor": 0,
  "metadata": {
    "colab": {
      "provenance": [],
      "gpuType": "T4"
    },
    "kernelspec": {
      "name": "python3",
      "display_name": "Python 3"
    },
    "language_info": {
      "name": "python"
    },
    "accelerator": "GPU"
  },
  "cells": [
    {
      "cell_type": "code",
      "execution_count": null,
      "metadata": {
        "id": "BhY4KEGub6-U"
      },
      "outputs": [],
      "source": [
        "import gibbs_mcmc_nn as mc #imports the file with all the functions of the Gibbs sampler\n",
        "import torch\n",
        "import numpy as np\n",
        "import matplotlib.pyplot as plt"
      ]
    },
    {
      "cell_type": "code",
      "source": [
        "device = torch.device(\"cuda\" if torch.cuda.is_available() else \"cpu\")\n",
        "print(device)\n",
        "torch.set_default_tensor_type(torch.FloatTensor) "
      ],
      "metadata": {
        "colab": {
          "base_uri": "https://localhost:8080/"
        },
        "id": "xlbsc6-eFR9K",
        "outputId": "c3886aae-fa8f-4f22-a73c-1818fe05e6a0"
      },
      "execution_count": null,
      "outputs": [
        {
          "output_type": "stream",
          "name": "stdout",
          "text": [
            "cuda\n"
          ]
        }
      ]
    },
    {
      "cell_type": "markdown",
      "source": [
        "# Introduction\n",
        "In this notebook we will use the Gibbs sampler to sampel form the posterior of a neural network, in the case where the training set is MNIST.\n",
        "\n",
        "\n",
        "\n",
        "The algorithm is described in detail in the paper **Gibbs Sampling the Posterior of Neural Networks**.\n",
        "\n",
        "\n"
      ],
      "metadata": {
        "id": "japQqCpGcUZk"
      }
    },
    {
      "cell_type": "markdown",
      "source": [
        "## Architecture & Posterior\n",
        "\n",
        "We list the layers of the CNN together with their parameters.\n",
        "The input in a tensor of shape $n\\times 1\\times28\\times 28$, with $n$ the size of the training set. \n",
        "1. Convolutional layer with $4\\times 4$ filter, 2 output channels, stride=2, no padding. Output: `Z`\n",
        "2. Average $2\\times 2$ pooling with stride=2. Output: `Z_2`\n",
        "3. ReLU activation. Output `X_2`\n",
        "4. Fully connected layer with $10\\times 72$ weights. Output: `Z_3`\n",
        "5. Argmax activation over the 10 output units. Outputs the labels\n",
        "\n",
        "\n",
        "\n",
        "Now we must associate a posterior to this architecture. \n",
        "We do so by specifying the implicit generative process.\n",
        "We assume that after each layer above  except for the argmax a Gaussian noise with variance $\\Delta$ is added. The prior is i.i.d. Gaussian with inverse variances on each weight $\\lambda_W^{(1)}=16,\\lambda_b^{(1)}=16,\\lambda_{W}^{(2)}=72,\\lambda_{b}^{(2)}=72$."
      ],
      "metadata": {
        "id": "jryOh3UGc_wB"
      }
    },
    {
      "cell_type": "code",
      "source": [
        "def CNN_net(X,W,b,s_y,s_x,H_P,W_P,W_2,b_2): \n",
        "    \"\"\"\n",
        "    Computes the output of the CNN network on a batch of data\n",
        "\n",
        "    X is the input tensor\n",
        "    W are the weights of the convolutional layer\n",
        "    b is the bias vector associated to the convolutional layer\n",
        "    s_y,s_x are the strides of the convolutional layer\n",
        "    H_P, W_P are the height and width of the pooling filters\n",
        "    W_2,b_2 are the weights and biases of the fully connected layer\n",
        "    \"\"\"\n",
        "    \n",
        "    Z=mc.conv2d_layer(X,W,s_y,s_x)+b[None,:,None,None]\n",
        "    Z_2=mc.average_pool2d(Z,H_P,W_P)\n",
        "    X_2=mc.ReLU(Z_2).reshape([Z_2.shape[0],-1])\n",
        "    Z_3=X_2@(W_2.T)+b_2[None,:]\n",
        "    return torch.argmax(Z_3,axis=1).type(torch.long)"
      ],
      "metadata": {
        "id": "-bXB93JwtP-g"
      },
      "execution_count": null,
      "outputs": []
    },
    {
      "cell_type": "markdown",
      "source": [
        "## Dataset loading\n",
        "We load the MNIST dataset from the file `mnist.npz` downloadable at https://www.kaggle.com/datasets/vikramtiwari/mnist-numpy .\n"
      ],
      "metadata": {
        "id": "hiRjeGUcyOWj"
      }
    },
    {
      "cell_type": "code",
      "source": [
        "n=2000 #number of training points\n",
        "n_test=5000 #number of test points\n",
        "file_mnist=np.load(\"./mnist.npz\",allow_pickle=True)\n",
        "X_train=torch.tensor(file_mnist['x_train'],dtype=torch.float)[:n,None,:,:]\n",
        "X_test=torch.tensor(file_mnist['x_test'],dtype=torch.float)[:n_test,None,:,:]\n",
        "y_train=torch.tensor(file_mnist['y_train']).type(torch.long).flatten()[:n]\n",
        "y_test=torch.tensor(file_mnist['y_test']).type(torch.long).flatten()[:n_test]\n",
        "\n",
        "\n",
        "#normalizing training and test inputs\n",
        "X_train=X_train[:n]/255\n",
        "X_test=X_test[:n_test]/255\n",
        "mean_X=torch.mean(X_train)\n",
        "std_X=torch.std(X_train)\n",
        "X_train=(X_train-mean_X)/std_X\n",
        "X_test=(X_test-mean_X)/std_X"
      ],
      "metadata": {
        "id": "q7EOKh76cK8q"
      },
      "execution_count": null,
      "outputs": []
    },
    {
      "cell_type": "markdown",
      "source": [
        "## Gibbs parameters\n",
        "\n",
        "We will now run the Gibbs sampler on the dataset. \n",
        "First we must set the algorithm's parameters, i.e., $\\Delta,\\lambda_W^{(1)},\\lambda_W^{(1)},\\lambda_W^{(2)}, \\lambda_b^{(2)}$. "
      ],
      "metadata": {
        "id": "y_x4MbJP8wzF"
      }
    },
    {
      "cell_type": "code",
      "source": [
        "sigma=torch.nn.ReLU()\n",
        "C_X=1 #number of input channels (1 for MNIST)\n",
        "H_X=28 #input height\n",
        "W_X=28 #input width\n",
        "H_W=4 #convolutional filter's height\n",
        "W_W=4 #convolutional filter's height\n",
        "C_Z=2 #number of output channels of the convolutional layer\n",
        "s_y=2 #vertical stride of convolutional layer\n",
        "s_x=1 #horizontal stride of convolutional layer\n",
        "H_P=2 #height of the pooling filter\n",
        "W_P=2 #width of the pooling filter\n",
        "C=10 #number of classes\n",
        "H_Z=torch.div((H_X-H_W),s_y,rounding_mode='floor')+1 \n",
        "W_Z=torch.div((W_X-W_W),s_x,rounding_mode='floor')+1\n",
        "H_Z_2=torch.div(H_Z,H_P,rounding_mode='floor')\n",
        "W_Z_2=torch.div(W_Z,W_P,rounding_mode='floor')\n",
        "d_X_2=torch.tensor(C_Z*H_Z_2*W_Z_2)\n",
        "lambda_W=torch.tensor(H_W*W_W*C_X) #16\n",
        "lambda_b=torch.tensor(H_W*W_W*C_X) #16\n",
        "lambda_W_2=torch.tensor(d_X_2) #72\n",
        "lambda_b_2=d_X_2 #72\n",
        "Delta=torch.tensor(20) #temperature of the posterior"
      ],
      "metadata": {
        "id": "CC2bzlhc8z78",
        "colab": {
          "base_uri": "https://localhost:8080/"
        },
        "outputId": "599a027e-f1ec-47a5-cf5f-5c5ab4e1b23e"
      },
      "execution_count": null,
      "outputs": [
        {
          "output_type": "stream",
          "name": "stderr",
          "text": [
            "<ipython-input-5-b0086992f58e>:17: UserWarning: To copy construct from a tensor, it is recommended to use sourceTensor.clone().detach() or sourceTensor.clone().detach().requires_grad_(True), rather than torch.tensor(sourceTensor).\n",
            "  d_X_2=torch.tensor(C_Z*H_Z_2*W_Z_2)\n",
            "<ipython-input-5-b0086992f58e>:20: UserWarning: To copy construct from a tensor, it is recommended to use sourceTensor.clone().detach() or sourceTensor.clone().detach().requires_grad_(True), rather than torch.tensor(sourceTensor).\n",
            "  lambda_W_2=torch.tensor(d_X_2) #72\n"
          ]
        }
      ]
    },
    {
      "cell_type": "markdown",
      "source": [
        "## Initialization\n",
        "for the Gibbs sampler we set all variables initially to zero.\n"
      ],
      "metadata": {
        "id": "UjxmJetw_mg5"
      }
    },
    {
      "cell_type": "code",
      "source": [
        "#zero initialization\n",
        "W=torch.zeros(size=[C_Z,C_X,H_W,W_W])\n",
        "b=torch.zeros(size=[C_Z])\n",
        "Z=torch.zeros(size=[n,C_Z,H_Z,W_Z])\n",
        "Z_2=torch.zeros(size=[n,C_Z,H_Z//2,W_Z//2])\n",
        "X_2=torch.zeros(size=[n,d_X_2])\n",
        "W_2=torch.zeros(size=[C,d_X_2])\n",
        "b_2=torch.zeros(size=[C])\n",
        "Z_3=torch.zeros(size=[n,C])"
      ],
      "metadata": {
        "id": "rueTjOGIFeSM"
      },
      "execution_count": null,
      "outputs": []
    },
    {
      "cell_type": "code",
      "source": [
        "#precomute quantities for sampling the first layer's weights\n",
        "#precomputed quantities\n",
        "jump_y,jump_x=X_train.stride()[-2:] #number of positions I have to move in memory to go to the next  3rd, 4th index respectively in X_l.\n",
        "X_strided_shape=(n,C_X,H_W,W_W,H_Z,W_Z) \n",
        "X_strides=X_train.stride()+(s_y*jump_y,s_x*jump_x)\n",
        "\n",
        "X_strided=torch.as_strided(X_train.type(torch.float64),size=X_strided_shape, stride=X_strides)\n",
        "A_tilde_resc=torch.tensordot(X_strided,X_strided, [[0,4,5],[0,4,5]])\n",
        "\n",
        "A_resc=A_tilde_resc.reshape([C_X*H_W*W_W,C_X*H_W*W_W]) \n",
        "A_resc=A_resc+lambda_W*Delta*torch.eye(C_X*H_W*W_W,dtype=torch.float64)\n",
        "Cov_W_resc=torch.linalg.inv(A_resc)  \n",
        "Cholesky_Cov_W_resc=torch.linalg.cholesky(Cov_W_resc).type(torch.float32)  #<---should be passed as argument\n",
        "Cov_W_resc_XT=torch.tensordot(Cov_W_resc.reshape([C_X*H_W*W_W,C_X,H_W,W_W]),X_strided,[[1,2,3],[1,2,3]]).type(torch.float32) #<--- should be passed as argument"
      ],
      "metadata": {
        "id": "ec-Gijjad-UP"
      },
      "execution_count": null,
      "outputs": []
    },
    {
      "cell_type": "code",
      "source": [
        "#moving the variables to the GPU (if needed)\n",
        "Delta=Delta.to(device)\n",
        "lambda_W=lambda_W.to(device)\n",
        "lambda_b=lambda_b.to(device)\n",
        "lambda_W_2=lambda_W_2.to(device)\n",
        "lambda_b_2=lambda_b_2.to(device)\n",
        "W=W.to(device)\n",
        "b=b.to(device)\n",
        "Z=Z.to(device)\n",
        "Z_2=Z_2.to(device)\n",
        "X_2=X_2.to(device)\n",
        "W_2=W_2.to(device)\n",
        "b_2=b_2.to(device)\n",
        "Z_3=Z_3.to(device)\n",
        "X_train=X_train.to(device)\n",
        "y_train=y_train.to(device)\n",
        "X_test=X_test.to(device)\n",
        "y_test=y_test.to(device)\n",
        "Cholesky_Cov_W_resc=Cholesky_Cov_W_resc.to(device)\n",
        "Cov_W_resc_XT=Cov_W_resc_XT.to(device)\n",
        "if(str(device)=='cuda'):\n",
        "    torch.set_default_tensor_type(torch.cuda.FloatTensor) "
      ],
      "metadata": {
        "id": "I6R5KsEVHkUc"
      },
      "execution_count": null,
      "outputs": []
    },
    {
      "cell_type": "code",
      "source": [
        "#stuff to track during the dynamics\n",
        "test_loss=[]\n",
        "train_loss=[]\n",
        "W_1_norm=[]\n",
        "W_2_norm=[]\n",
        "tmax=5000"
      ],
      "metadata": {
        "id": "2cuO3qjdF1UH"
      },
      "execution_count": null,
      "outputs": []
    },
    {
      "cell_type": "markdown",
      "source": [
        "## Run the Gibbs sampler"
      ],
      "metadata": {
        "id": "da1zzPvxJrgo"
      }
    },
    {
      "cell_type": "code",
      "source": [
        "for t in range(tmax):\n",
        "    y_pred_test=CNN_net(X_test,W,b,s_y,s_x,H_P,W_P,W_2,b_2)\n",
        "    y_pred_train=CNN_net(X_train,W,b,s_y,s_x,H_P,W_P,W_2,b_2)\n",
        "    test_loss.append(1.-torch.sum(y_pred_test==y_test).item()/(y_test.shape[0]))\n",
        "    train_loss.append(1.-torch.sum(y_pred_train==y_train).item()/(y_train.shape[0]))\n",
        "\n",
        "    #updating the variables (in this case in reverse order)\n",
        "    Z_3=mc.sample_Z_Lp1_multinomial_probit(X_2@(W_2.T)+b_2[None,:],Z_3,y_train,Delta_Z_Lp1=Delta,precise=True)\n",
        "    W_2=mc.sample_W_l_fcl(X_2,b_2,Z_3,lambda_W_2,Delta_Z_lp1=Delta)\n",
        "    b_2=mc.sample_b_l_fcl(W_2,Z_3,X_2,Delta_Z_lp1=Delta,lambda_b_l=lambda_b_2)\n",
        "    X_2=mc.sample_X_l_fcl(mc.ReLU(Z_2).reshape([n,-1]),W_2,b_2,Z_3,Delta_X_l=Delta,Delta_Z_lp1=Delta)\n",
        "    Z_2=mc.sample_Z_lp1_relu(fwd_X_l=mc.average_pool2d(Z,H_P,W_P),X_lp1=X_2.reshape([n,C_Z,H_Z_2,W_Z_2]),Delta_Z_lp1=Delta,Delta_X_lp1=Delta,precise=True)    \n",
        "    Z=mc.sample_X_l_avg_pooling(fwd_Z_l=mc.conv2d_layer(X_train,W,s_y,s_x)+b[None,:,None,None],X_lp1=Z_2,Delta_X_l=Delta, Delta_X_lp1=Delta)\n",
        "    W=mc.sample_W_1_conv2d(Cholesky_Cov_W_resc, Cov_W_resc_XT,b,Z,Delta_Z_2=Delta, H_W=H_W, W_W=W_W, C_1=C_X)\n",
        "    b=mc.sample_b_l_conv2d(X_train,Z,W,Delta_Z_lp1=Delta,lambda_b_l=lambda_b,stride_y=s_y,stride_x=s_x)"
      ],
      "metadata": {
        "id": "hQs0OcBv_Xst"
      },
      "execution_count": null,
      "outputs": []
    },
    {
      "cell_type": "code",
      "source": [
        "plt.plot(test_loss,label=\"test error\")\n",
        "plt.plot(train_loss,label=\"train error\")\n",
        "plt.xlabel(\"t (steps)\")\n",
        "plt.ylabel(\"error (1 - accuracy)\")\n",
        "plt.xscale('log')\n",
        "plt.yscale('log')\n",
        "plt.grid()\n",
        "plt.legend()"
      ],
      "metadata": {
        "colab": {
          "base_uri": "https://localhost:8080/",
          "height": 477
        },
        "id": "Xk2if7miK8m0",
        "outputId": "44a97e5c-63f6-4782-e193-f23fd1538711"
      },
      "execution_count": null,
      "outputs": [
        {
          "output_type": "execute_result",
          "data": {
            "text/plain": [
              "<matplotlib.legend.Legend at 0x7fb79ba4d8d0>"
            ]
          },
          "metadata": {},
          "execution_count": 11
        },
        {
          "output_type": "display_data",
          "data": {
            "text/plain": [
              "<Figure size 640x480 with 1 Axes>"
            ],
            "image/png": "[encoded data removed]"
          },
          "metadata": {}
        }
      ]
    },
    {
      "cell_type": "code",
      "source": [],
      "metadata": {
        "id": "GpIe8QPuJIt-"
      },
      "execution_count": null,
      "outputs": []
    }
  ]
}