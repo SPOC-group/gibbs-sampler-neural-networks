{
  "nbformat": 4,
  "nbformat_minor": 0,
  "metadata": {
    "colab": {
      "provenance": [],
      "gpuType": "T4"
    },
    "kernelspec": {
      "name": "python3",
      "display_name": "Python 3"
    },
    "language_info": {
      "name": "python"
    },
    "accelerator": "GPU"
  },
  "cells": [
    {
      "cell_type": "code",
      "execution_count": null,
      "metadata": {
        "id": "BhY4KEGub6-U"
      },
      "outputs": [],
      "source": [
        "import gibbs_mcmc_nn as mc #imports the file with all the functions of the Gibbs sampler\n",
        "import torch\n",
        "import numpy as np\n",
        "import matplotlib.pyplot as plt"
      ]
    },
    {
      "cell_type": "code",
      "source": [
        "device = torch.device(\"cuda\" if torch.cuda.is_available() else \"cpu\")\n",
        "print(device)\n",
        "torch.set_default_tensor_type(torch.FloatTensor) "
      ],
      "metadata": {
        "colab": {
          "base_uri": "https://localhost:8080/"
        },
        "id": "xlbsc6-eFR9K",
        "outputId": "0cf39cd3-8e74-43f3-884c-9624a85f3e49"
      },
      "execution_count": null,
      "outputs": [
        {
          "output_type": "stream",
          "name": "stdout",
          "text": [
            "cuda\n"
          ]
        }
      ]
    },
    {
      "cell_type": "markdown",
      "source": [
        "# Introduction\n",
        "In this notebook we will use the Gibbs sampler to sample form the posterior of a neural network, in the case where the training set is MNIST.\n",
        "\n",
        "\n",
        "\n",
        "The algorithm is described in detail in the paper **Gibbs Sampling the Posterior of Neural Networks**.\n",
        "\n",
        "\n"
      ],
      "metadata": {
        "id": "japQqCpGcUZk"
      }
    },
    {
      "cell_type": "markdown",
      "source": [
        "## Architecture\n",
        "\n",
        "Let's start by defining the neural network's architecture and the posterior that we wish to sample. We will focus on a neural net with input dimension $d^{(1)}=28\\times 28$, $d^{(2)}=12$ hidden units and $d^{(3)}=10$ output units (corresponding to th 10 possible labels), over which we take an argmax. We use ReLU activations. The neural network function is $f(\\cdot,W):\\mathbb R^d\\mapsto \\mathbb R$,\n",
        "\\begin{equation}\n",
        "f(x,W)=\\arg\\max_{c\\in\\{0,1,\\dots,9\\}} b^{(2)}_c+\\sum_{\\alpha=1}^{d^{(2)}}W^{(2)}_{c\\alpha} \\sigma\\left(W^{(1)T}_\\alpha x+b^{(1)}_\\alpha\\right)\n",
        "\\end{equation}\n",
        "with the weight matrices $W^{(1)}\\in\\mathbb R^{d_2 \\times d_1}$, $W^{(2)}\\in\\mathbb R^{C \\times d_2}$, $b^{(1)}\\in\\mathbb R^{d_2}$, $b^{(2)}\\in\\mathbb R^{C}$. The input vector $x$ lives in $\\mathbb R^{d_1}$ and $\\sigma(x)=\\max(0,x)$.\n",
        "\n"
      ],
      "metadata": {
        "id": "jryOh3UGc_wB"
      }
    },
    {
      "cell_type": "code",
      "source": [
        "def MLP_class_1_hidden_layer(sigma,W_1,b_1,W_2,b_2,X):\n",
        "    return torch.argmax((sigma(X@(W_1.T)+b_1[None,:]))@(W_2.T)+b_2[None,:],axis=1).type(torch.long)"
      ],
      "metadata": {
        "id": "-bXB93JwtP-g"
      },
      "execution_count": null,
      "outputs": []
    },
    {
      "cell_type": "markdown",
      "source": [
        "## Posterior\n",
        "Let $X\\in\\mathbb R^{n\\times d_1}$ be our training inputs and $y\\in\\mathbb R^n$ the training labels. $n$ is the size of the training set.\n",
        "\n",
        "We want to sample from the posterior\n",
        "\\begin{equation}\n",
        "P(W|X,y)=\\frac{P(y|X,W)P(W)}{P(y|X)},\n",
        "\\end{equation}\n",
        "where $W$ indicates all the parameters of the network.\n",
        "Given an architecture $f$ there are several ways to translate it inot a posterior. The Gibbs sampler allows to sample one of these forms, named the intermediate noise posterior.\n",
        "Define $Z^{(2)}\\in\\mathbb R^{n\\times d_2}, X^{(2)}\\in\\mathbb R^{n\\times d_2}$ to respectively the pre- and post- activations of the first layer.\n",
        "We will draw samples from the probability.\n",
        "\\begin{align}\n",
        "&P(W,Z^{(2)},X^{(2)}|X,y)=\\frac{1}{\\mathcal Z}\\left\\{\\prod_{\\mu=1}^n\\mathbb{I}\\left[y^\\mu=\\arg\\max_{c\\in\\{0,\\dots,9\\}}Z^{(3)\\mu}_{c}\\right]\\right\\}\\times\\\\&\\exp\\left\\{-\\frac{1}{2\\Delta}\\left[\\sum_{\\mu=1}^{n}\\sum_{c=0}^{9}\\left(Z^{(3)\\mu}_{c}-W_{c}^{(2)T}X^{(2)\\mu}\\right)^2+\\sum_{\\mu=1}^{n}\\sum_{\\alpha=1}^{d_2}\\left(X^{(2)\\mu}_\\alpha-\\sigma(Z^{(2)\\mu}_\\alpha)\\right)^2+\\left(Z^{(2)\\mu}_\\alpha-W_\\alpha^{(1)T}X^\\mu\\right)^2\\right]\\right\\}\\times\\\\&\\times\\exp\\left[-\\frac{\\lambda_W^{(1)}}{2}\\sum_{\\alpha=1}^{d_2}\\sum_{i=1}^{d_1}(W^{(1)}_{\\alpha i})^2-\\frac{\\lambda_b^{(1)}}{2}\\sum_{\\alpha=1}^{d_2}(b^{(1)}_{\\alpha})^2-\\frac{\\lambda_W^{(2)}}{2}\\sum_{\\alpha=1}^{d_2}\\sum_{c=0}^{9}(W^{(2)}_{c\\alpha})^2-\\frac{\\lambda_b^{(2)}}{2} \\sum_{c=0}^9(b^{(2)}_c)^2\\right]\n",
        "\\end{align}\n",
        "\n",
        "$\\Delta$ is a *temperature* parameter for the Gibbs sampler.\n",
        "We place a i.i.d. gaussian prior on each weight vector. $\\lambda_W^{(1)},\\lambda_b^{(1)},\\lambda_W^{(2)},\\lambda_b^{(2)}$ are the inverse variances of the prior of respectively the first layer weights and biases and second layer weights and bias.\n",
        "\n",
        "\n",
        "The Gibbs sampler draws samples from this posterior by iteratively sampling each of $W^{(1)},b^{(1)},Z^{(2)},X^{(2)},W^{(2)},b^{(2)}, Z^{(3)}$ from its conditional distribution on all other variables.\n",
        "\n",
        "\n",
        "\n"
      ],
      "metadata": {
        "id": "ZQvBhATMfVyD"
      }
    },
    {
      "cell_type": "markdown",
      "source": [
        "## Dataset loading\n",
        "We load the MNIST dataset from the file `mnist.npz` downloadable at https://www.kaggle.com/datasets/vikramtiwari/mnist-numpy .\n"
      ],
      "metadata": {
        "id": "hiRjeGUcyOWj"
      }
    },
    {
      "cell_type": "code",
      "source": [
        "n=60000 #number of training points\n",
        "n_test=5000 #number of test points\n",
        "file_mnist=np.load(\"./mnist.npz\",allow_pickle=True)\n",
        "X_train=torch.tensor(file_mnist[\"x_train\"]) #use only half of the training set\n",
        "X_test=torch.tensor(file_mnist['x_test']) #use only half of the test set\n",
        "y_train=torch.tensor(file_mnist['y_train']).type(torch.long).flatten()[:n]\n",
        "y_test=torch.tensor(file_mnist['y_test']).type(torch.long).flatten()[:n_test]\n",
        "\n",
        "\n",
        "#normalizing training and test inputs\n",
        "X_train=X_train.reshape([60000,28*28])[:n]/255\n",
        "X_test=X_test.reshape([10000,28*28])[:n_test]/255\n",
        "mean_X=torch.mean(X_train)\n",
        "std_X=torch.std(X_train)\n",
        "X_train=(X_train-mean_X)/std_X\n",
        "X_test=(X_test-mean_X)/std_X"
      ],
      "metadata": {
        "id": "q7EOKh76cK8q"
      },
      "execution_count": null,
      "outputs": []
    },
    {
      "cell_type": "markdown",
      "source": [
        "## Gibbs parameters\n",
        "\n",
        "We will now run the Gibbs sampler on the dataset. \n",
        "First we must set the algorithm's parameters, i.e., $\\Delta,\\lambda_W^{(1)},\\lambda_W^{(1)},\\lambda_W^{(2)}, \\lambda_b^{(2)}$. We take $\\lambda_W^{(1)}=\\lambda_b^{(1)}=d_1=784,\\;\\lambda_w^{(2)}=\\lambda_b^{(2)}=d_2=12$"
      ],
      "metadata": {
        "id": "y_x4MbJP8wzF"
      }
    },
    {
      "cell_type": "code",
      "source": [
        "sigma=torch.nn.ReLU()\n",
        "d_1=torch.tensor(28*28)\n",
        "d_2=torch.tensor(12)\n",
        "C=10 #number of classes\n",
        "lambda_W_1=d_1\n",
        "lambda_b_1=d_1\n",
        "lambda_W_2=d_2\n",
        "lambda_b_2=d_2\n",
        "Delta=torch.tensor(2) #temperature of the posterior"
      ],
      "metadata": {
        "id": "CC2bzlhc8z78"
      },
      "execution_count": null,
      "outputs": []
    },
    {
      "cell_type": "markdown",
      "source": [
        "## Initialization\n",
        "for the Gibbs sampler we set all variables initially to zero.\n"
      ],
      "metadata": {
        "id": "UjxmJetw_mg5"
      }
    },
    {
      "cell_type": "code",
      "source": [
        "#zero initialization\n",
        "W_1=torch.zeros(size=[d_2,d_1])\n",
        "b_1=torch.zeros(size=[d_2])\n",
        "Z_2=torch.zeros(size=[n,d_2])\n",
        "X_2=torch.zeros(size=[n,d_2])\n",
        "W_2=torch.zeros(size=[C,d_2])\n",
        "b_2=torch.zeros(size=[C])\n",
        "Z_3=torch.zeros(size=[n,C])"
      ],
      "metadata": {
        "id": "rueTjOGIFeSM"
      },
      "execution_count": null,
      "outputs": []
    },
    {
      "cell_type": "code",
      "source": [
        "#precomute quantities for sampling the first layer's weights\n",
        "double_type=torch.DoubleTensor\n",
        "n,d=X_train.shape\n",
        "sum_X=torch.sum(X_train.type(double_type),axis=0)[None,:]\n",
        "up_block=torch.cat((torch.tensor([[lambda_b_1*Delta+n]]).type(double_type),sum_X),axis=1)\n",
        "down_block=torch.cat((sum_X.T,(X_train.type(double_type).T)@X_train.type(double_type)+Delta.type(double_type)*lambda_W_1.type(double_type)*torch.eye(d).type(double_type)),axis=1)\n",
        "Cov_W_b_resc=torch.linalg.inv(torch.cat((up_block,down_block),axis=0))\n",
        "Cholesky_Cov_W_b_resc=torch.linalg.cholesky(Cov_W_b_resc) #<---- must pass as first argument\n",
        "Cov_W_b_resc_XT = Cov_W_b_resc @ torch.cat((torch.ones([n,1]).type(double_type),X_train.type(double_type)),axis=1).T #<---- must pass this as second argument\n",
        "Cholesky_Cov_W_b_resc=Cholesky_Cov_W_b_resc.type(torch.FloatTensor)\n",
        "Cov_W_b_resc_XT =Cov_W_b_resc_XT.type(torch.FloatTensor)"
      ],
      "metadata": {
        "id": "ec-Gijjad-UP"
      },
      "execution_count": null,
      "outputs": []
    },
    {
      "cell_type": "code",
      "source": [
        "#moving the variables to the GPU (if needed)\n",
        "Delta=Delta.to(device)\n",
        "lambda_W_1=lambda_W_1.to(device)\n",
        "lambda_b_1=lambda_b_1.to(device)\n",
        "lambda_W_2=lambda_W_2.to(device)\n",
        "lambda_b_2=lambda_b_2.to(device)\n",
        "W_1=W_1.to(device)\n",
        "b_1=b_1.to(device)\n",
        "Z_2=Z_2.to(device)\n",
        "X_2=X_2.to(device)\n",
        "W_2=W_2.to(device)\n",
        "b_2=b_2.to(device)\n",
        "Z_3=Z_3.to(device)\n",
        "X_train=X_train.to(device)\n",
        "y_train=y_train.to(device)\n",
        "X_test=X_test.to(device)\n",
        "y_test=y_test.to(device)\n",
        "Cholesky_Cov_W_b_resc=Cholesky_Cov_W_b_resc.to(device)\n",
        "Cov_W_b_resc_XT=Cov_W_b_resc_XT.to(device)\n",
        "if(str(device)=='cuda'):\n",
        "    torch.set_default_tensor_type(torch.cuda.FloatTensor) "
      ],
      "metadata": {
        "id": "I6R5KsEVHkUc"
      },
      "execution_count": null,
      "outputs": []
    },
    {
      "cell_type": "code",
      "source": [
        "#stuff to track during the dynamics\n",
        "test_loss=[]\n",
        "train_loss=[]\n",
        "W_1_norm=[]\n",
        "W_2_norm=[]\n",
        "tmax=5000"
      ],
      "metadata": {
        "id": "2cuO3qjdF1UH"
      },
      "execution_count": null,
      "outputs": []
    },
    {
      "cell_type": "code",
      "source": [
        "#should take about 1 minute to run on the GPU. To run on the CPU, reduce the number of training inputs\n",
        "for t in range(tmax):\n",
        "    y_pred_test=MLP_class_1_hidden_layer(sigma,W_1,b_1,W_2,b_2,X_test)\n",
        "    y_pred_train=MLP_class_1_hidden_layer(sigma,W_1,b_1,W_2,b_2,X_train)\n",
        "    test_loss.append(1.-torch.sum(y_pred_test==y_test).item()/(y_test.shape[0]))\n",
        "    train_loss.append(1.-torch.sum(y_pred_train==y_train).item()/(y_train.shape[0]))\n",
        "\n",
        "    #updating the variables (in this case in reverse order)\n",
        "    Z_3=mc.sample_Z_Lp1_multinomial_probit(X_2@(W_2.T)+b_2[None,:],Z_3,y_train,Delta,precise=True)    \n",
        "    W_2=mc.sample_W_l_fcl(X_2,b_2,Z_3,lambda_W_2,Delta)\n",
        "    b_2=mc.sample_b_l_fcl(W_2,Z_3,X_2,Delta,lambda_b_2)\n",
        "    X_2=mc.sample_X_l_fcl(sigma(Z_2),W_2,b_2,Z_3,Delta,Delta) \n",
        "    Z_2=mc.sample_Z_lp1_relu(X_train@(W_1.T)+b_1[None,:],X_2,Delta,Delta)\n",
        "    W_1,b_1=mc.sample_W_b_1_fcl(Cholesky_Cov_W_b_resc, Cov_W_b_resc_XT,Z_2,Delta)"
      ],
      "metadata": {
        "id": "hQs0OcBv_Xst"
      },
      "execution_count": null,
      "outputs": []
    },
    {
      "cell_type": "code",
      "source": [
        "plt.plot(test_loss,label=\"test error\")\n",
        "plt.plot(train_loss,label=\"train error\")\n",
        "plt.xlabel(\"t (steps)\")\n",
        "plt.ylabel(\"error (1 - accuracy)\")\n",
        "plt.xscale('log')\n",
        "plt.yscale('log')\n",
        "plt.grid()\n",
        "plt.legend()"
      ],
      "metadata": {
        "colab": {
          "base_uri": "https://localhost:8080/",
          "height": 475
        },
        "id": "Xk2if7miK8m0",
        "outputId": "368d008e-485d-4404-881c-63511c0083cc"
      },
      "execution_count": null,
      "outputs": [
        {
          "output_type": "execute_result",
          "data": {
            "text/plain": [
              "<matplotlib.legend.Legend at 0x7f14de10c670>"
            ]
          },
          "metadata": {},
          "execution_count": 11
        },
        {
          "output_type": "display_data",
          "data": {
            "text/plain": [
              "<Figure size 640x480 with 1 Axes>"
            ],
            "image/png": "[encoded data removed]"
          },
          "metadata": {}
        }
      ]
    },
    {
      "cell_type": "code",
      "source": [],
      "metadata": {
        "id": "DcCEjnpefYuk"
      },
      "execution_count": null,
      "outputs": []
    }
  ]
}
